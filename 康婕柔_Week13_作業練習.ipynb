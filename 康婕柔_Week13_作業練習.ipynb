{
  "nbformat": 4,
  "nbformat_minor": 0,
  "metadata": {
    "kernelspec": {
      "display_name": "Python 3",
      "language": "python",
      "name": "python3"
    },
    "language_info": {
      "codemirror_mode": {
        "name": "ipython",
        "version": 3
      },
      "file_extension": ".py",
      "mimetype": "text/x-python",
      "name": "python",
      "nbconvert_exporter": "python",
      "pygments_lexer": "ipython3",
      "version": "3.8.5"
    },
    "colab": {
      "name": "康婕柔-Week13-作業練習.ipynb",
      "provenance": [],
      "include_colab_link": true
    }
  },
  "cells": [
    {
      "cell_type": "markdown",
      "metadata": {
        "id": "view-in-github",
        "colab_type": "text"
      },
      "source": [
        "<a href=\"https://colab.research.google.com/github/A109010126/Computational-Thinking-and-Program-Design/blob/main/%E5%BA%B7%E5%A9%95%E6%9F%94_Week13_%E4%BD%9C%E6%A5%AD%E7%B7%B4%E7%BF%92.ipynb\" target=\"_parent\"><img src=\"https://colab.research.google.com/assets/colab-badge.svg\" alt=\"Open In Colab\"/></a>"
      ]
    },
    {
      "cell_type": "markdown",
      "metadata": {
        "id": "-RgpU8qkHOzi"
      },
      "source": [
        "**隨堂練習1： BMI 計算**\n",
        "\n",
        "請寫一個程式讓使用者輸入身高與體重，顯示BMI 值與肥胖程度。 BMI 等於體重（KG）除以身高（M）的平方，而BMI 與肥胖分類標準如下：\n",
        "\n",
        "若BMI 值小於18，則顯示「體重過輕」，否則若BMI 值小於24，則顯示「體重正常」，若BMI 值小於27，則顯示「體重過重」，否則顯示「體重肥胖」。"
      ]
    },
    {
      "cell_type": "code",
      "metadata": {
        "colab": {
          "base_uri": "https://localhost:8080/"
        },
        "id": "0Rbc7E5lHOzl",
        "outputId": "01feb320-d21a-4d6f-bb12-2bbd02e34fb6"
      },
      "source": [
        "w=float(input(\"請輸入體重(KG)?\"))\n",
        "h=float(input(\"請輸入身高(M)?\"))\n",
        "bmi=w/(h*h)\n",
        "print(\"BMI為\",bmi)\n",
        "if bmi< 18:\n",
        "  print(\"體重過輕\")\n",
        "elif bmi < 24:\n",
        "  print(\"體重正常\")\n",
        "elif bmi < 27:\n",
        "  print(\"體重過重\")\n",
        "else:\n",
        "  print(\"體重肥胖\")\n"
      ],
      "execution_count": 8,
      "outputs": [
        {
          "output_type": "stream",
          "text": [
            "請輸入體重(KG)?60\n",
            "請輸入身高(M)?160\n",
            "BMI為 0.00234375\n",
            "體重過輕\n"
          ],
          "name": "stdout"
        }
      ]
    },
    {
      "cell_type": "markdown",
      "metadata": {
        "id": "rOi9aaMrHOzm"
      },
      "source": [
        "**隨堂練習2： 三一律(單向選擇、雙向與巢狀選擇、多向選擇)**\n",
        "\n",
        "請輸入一個數，然後判斷這個數是正數、是負數或者是零。"
      ]
    },
    {
      "cell_type": "code",
      "metadata": {
        "colab": {
          "base_uri": "https://localhost:8080/"
        },
        "id": "SoueFC0zHOzm",
        "outputId": "de29f484-a786-4c23-8bac-f45d44686b23"
      },
      "source": [
        "num = int(input(\"Pick a number:\"))\n",
        "if num > 0:\n",
        "  print(\"Your number is positive.\")\n",
        "if num < 0:\n",
        "  print(\"Your number is negative.\")\n",
        "if num == 0:\n",
        "  print(\"Your number is zero.\")\n",
        "print(\"Finished\")\n"
      ],
      "execution_count": 7,
      "outputs": [
        {
          "output_type": "stream",
          "text": [
            "Pick a number:9\n",
            "Your number is positive.\n",
            "Finished\n"
          ],
          "name": "stdout"
        }
      ]
    },
    {
      "cell_type": "markdown",
      "metadata": {
        "id": "96Bmru0zHOzn"
      },
      "source": [
        "**練習5   體溫與發燒**\n",
        "\n",
        "設計程式根據體溫判斷是否發燒，由使用者輸入體溫，程式判斷是否發燒，假設體溫小於36度，顯示「體溫過低」，體溫大於等於36度小於38度，顯示「體溫正常」，否則若體溫大於等於38度小於39度，顯示「體溫有點燒」，否則體溫大於等於39度，顯示「體溫很燒」。\n",
        "\n",
        "輸入體溫「36.5」，輸出為「體溫正常」。\n",
        "\n",
        "～程式執行結果如下。\n",
        "\n",
        "請輸入體溫？36.5\n",
        "\n",
        "體溫正常"
      ]
    },
    {
      "cell_type": "code",
      "metadata": {
        "colab": {
          "base_uri": "https://localhost:8080/"
        },
        "id": "6CO85RnOHOzn",
        "outputId": "a06ef13a-df1d-4568-f569-c8f6e0952905"
      },
      "source": [
        "num = int(input(\"輸入體溫:\"))\n",
        "if num < 36 :\n",
        "  print(\"體溫過低\")\n",
        "if 36 < num < 38:\n",
        "  print(\"體溫正常\")\n",
        "if 38 <= num < 39:\n",
        "  print(\"體溫有點燒\") \n",
        "if num >= 39:\n",
        "  print(\"體溫很燒\")\n",
        "if num == 36.5:\n",
        "  print(\"體溫正常\")\n"
      ],
      "execution_count": 22,
      "outputs": [
        {
          "output_type": "stream",
          "text": [
            "輸入體溫:38\n",
            "體溫有點燒\n"
          ],
          "name": "stdout"
        }
      ]
    },
    {
      "cell_type": "markdown",
      "metadata": {
        "id": "KF51IYVIHOzn"
      },
      "source": [
        "**練習6  閏年判斷**\n",
        "\n",
        "設計程式允許輸入西元幾年，請求出該年是否是閏年，閏年表示該年多一天，若為4的倍數稱做閏年，但若為100的倍數就不為閏年，且若為400倍數又是閏年。(四年一潤、百年不潤、四百年再潤)\n",
        "\n",
        "輸入年份「2012」，輸出為「2012是閏年」。\n",
        "\n",
        "～程式執行結果如下。\n",
        "\n",
        "請輸入年份？2012\n",
        "\n",
        "2012 是閏年"
      ]
    },
    {
      "cell_type": "code",
      "metadata": {
        "colab": {
          "base_uri": "https://localhost:8080/"
        },
        "id": "CyY3efnwHOzn",
        "outputId": "173095a1-a0c7-4374-d5e5-195d523d4f71"
      },
      "source": [
        "year = int(input(\"請輸入年份?\"))\n",
        "if((year % 400)== 0):\n",
        "  print(\"是閏年\")\n",
        "elif((year % 100)== 0):\n",
        "  print(\"不是閏年\")\n",
        "elif((year % 4)== 0):\n",
        "  print(\"是閏年\")\n",
        "else:\n",
        "  print(\"不是閏年\")\n"
      ],
      "execution_count": 35,
      "outputs": [
        {
          "output_type": "stream",
          "text": [
            "請輸入年份?2022\n",
            "不是閏年\n"
          ],
          "name": "stdout"
        }
      ]
    },
    {
      "cell_type": "markdown",
      "metadata": {
        "id": "SJ0t8QvvHOzo"
      },
      "source": [
        "**練習12：計程車計費**\n",
        "\n",
        "某城市計程車計費3公里以內6元，超過3公里不足10公里、每公里1.8元，超過10公里則超過部分加收50%。此外停車等候每3分鐘收1元，請用Python寫出車費是多少。"
      ]
    },
    {
      "cell_type": "code",
      "metadata": {
        "id": "fab8eS9iHOzo"
      },
      "source": [
        ""
      ],
      "execution_count": null,
      "outputs": []
    },
    {
      "cell_type": "code",
      "metadata": {
        "id": "-cRDbqCNHOzo"
      },
      "source": [
        ""
      ],
      "execution_count": null,
      "outputs": []
    }
  ]
}