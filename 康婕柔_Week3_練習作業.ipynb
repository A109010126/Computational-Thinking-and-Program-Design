{
  "nbformat": 4,
  "nbformat_minor": 0,
  "metadata": {
    "colab": {
      "name": "康婕柔-Week3-練習作業.ipynb",
      "provenance": [],
      "authorship_tag": "ABX9TyOXJAhbRjLKTqlfxFuuuJgi",
      "include_colab_link": true
    },
    "kernelspec": {
      "name": "python3",
      "display_name": "Python 3"
    }
  },
  "cells": [
    {
      "cell_type": "markdown",
      "metadata": {
        "id": "view-in-github",
        "colab_type": "text"
      },
      "source": [
        "<a href=\"https://colab.research.google.com/github/A109010126/Computational-Thinking-and-Program-Design/blob/main/%E5%BA%B7%E5%A9%95%E6%9F%94_Week3_%E7%B7%B4%E7%BF%92%E4%BD%9C%E6%A5%AD.ipynb\" target=\"_parent\"><img src=\"https://colab.research.google.com/assets/colab-badge.svg\" alt=\"Open In Colab\"/></a>"
      ]
    },
    {
      "cell_type": "markdown",
      "metadata": {
        "id": "14Ko-BEYM_co"
      },
      "source": [
        "# 隨堂練習"
      ]
    },
    {
      "cell_type": "markdown",
      "metadata": {
        "id": "TjqPG8s-NNXP"
      },
      "source": [
        ""
      ]
    },
    {
      "cell_type": "markdown",
      "metadata": {
        "id": "mFa9OQT7N5Ea"
      },
      "source": [
        "# 課後練習"
      ]
    },
    {
      "cell_type": "markdown",
      "metadata": {
        "id": "-MUbDAVHN9IJ"
      },
      "source": [
        "**從一則新聞報導，提出你對新聞系（OO系）學生為什麼要學「運算思維與程式設計」的見解。（告訴我新聞連結，以及你的觀點即可。）**\r\n"
      ]
    },
    {
      "cell_type": "markdown",
      "metadata": {
        "id": "C8TALYMbOn7f"
      },
      "source": [
        "https://www.youtube.com/watch?v=5x3X52nMN1w\r\n",
        "我認為新聞系學生需要學這門課的原因是因為寫新聞是需要邏輯的，而這門課除了學習寫程式，還有培養學生邏輯思考的能力。而且現在連國中學生都要學程式設計了，多學一項技能讓自己多一項能力也能增加競爭力!"
      ]
    }
  ]
}